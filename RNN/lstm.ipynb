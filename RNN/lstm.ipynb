{
 "cells": [
  {
   "cell_type": "markdown",
   "id": "75639b7e-d5d2-4e27-ad5a-39f44e55f70d",
   "metadata": {},
   "source": [
    "# "
   ]
  },
  {
   "cell_type": "code",
   "execution_count": 1,
   "id": "5c4b1a05-7c0c-4eb8-847a-3e596ff4f903",
   "metadata": {},
   "outputs": [
    {
     "name": "stdout",
     "output_type": "stream",
     "text": [
      "Using device:  cuda\n"
     ]
    }
   ],
   "source": [
    "from parameter_tuning import train_model\n",
    "from rnn_gaussian import PredictTime\n",
    "import torch\n",
    "import torch.optim as optim\n",
    "import torch.nn as nn\n",
    "from parse_data import get_data, get_modified_values, get_binary_values, make_data_scalar\n",
    "import numpy as np\n",
    "from evaluation import evaluate_model, bin_plot\n",
    "import random\n",
    "from data_gen import Datagen\n",
    "\n",
    "device = torch.device('cuda' if torch.cuda.is_available() else 'cpu')\n",
    "print(\"Using device: \", device)\n",
    "\n"
   ]
  },
  {
   "cell_type": "code",
   "execution_count": 2,
   "id": "6c85aa94-51d0-4137-b935-b5ca2ed3b180",
   "metadata": {},
   "outputs": [
    {
     "data": {
      "image/png": "[encoded data removed]",
      "text/plain": [
       "<Figure size 1200x1200 with 1 Axes>"
      ]
     },
     "metadata": {},
     "output_type": "display_data"
    }
   ],
   "source": [
    "gen = Datagen(device)\n",
    "\n",
    "x, y = gen.get_true_data(10)\n",
    "\n",
    "\n",
    "bin_plot(y, 0, 1, None, 0.05)\n"
   ]
  },
  {
   "cell_type": "code",
   "execution_count": 3,
   "id": "56ac1b1a-c4fb-4952-9716-6983d1b8595e",
   "metadata": {},
   "outputs": [
    {
     "name": "stdout",
     "output_type": "stream",
     "text": [
      "[1, 2, 1, 2]\n"
     ]
    }
   ],
   "source": [
    "import random\n",
    "\n",
    "# Hyperparameters\n",
    "sequence_length = [2*i for i in range(4,16)] # 2-20 increments of two\n",
    "hidden_layers = [1,2]*2 # 1 and 2\n",
    "hidden_1 = [2**i for i in range(5,10)] # 2^4 to 2^9\n",
    "hidden_2 =[2**i for i in range(2, 5)] # 2^2 to 2^5\n",
    "variance = [0.001, 0.01, 0.005, 0.05]\n",
    "lr = [0.001, 0.01, 0.1, 0.005] # stop at 0.005\n",
    "data_probability = [i/5 for i in range(1,6)]\n",
    "noise_in_model = [True, False]\n",
    "epochs = 1000000000\n",
    "optimizer = [optim.Adam, optim.SGD]\n",
    "print(hidden_layers)\n",
    "\n",
    "options = []\n",
    "\n",
    "for seq_len in sequence_length:\n",
    "    for layers in hidden_layers:\n",
    "        for h1 in hidden_1:\n",
    "            for h2 in hidden_2:\n",
    "                for l in lr:\n",
    "                    for v in variance:\n",
    "                        for p in data_probability:\n",
    "                            for n in noise_in_model:\n",
    "                                entry = {}\n",
    "                                entry[\"seq_len\"] = seq_len\n",
    "                                entry[\"layers\"] = layers\n",
    "                                entry[\"hidden1\"] = h1\n",
    "                                entry[\"hidden2\"] = h2\n",
    "                                entry[\"l\"] = l\n",
    "                                entry[\"variance\"] = v\n",
    "                                entry[\"data_prob\"] = p\n",
    "                                entry[\"noise_model\"] = n\n",
    "                                options.append(entry)\n",
    "                \n",
    "                                         \n",
    "random.shuffle(options)    \n",
    "\n"
   ]
  },
  {
   "cell_type": "code",
   "execution_count": null,
   "id": "d88f4de2-78fb-4d25-b509-f9e272a6995c",
   "metadata": {},
   "outputs": [
    {
     "data": {
      "application/vnd.jupyter.widget-view+json": {
       "model_id": "725842394e2e4427b66cd8089c121d53",
       "version_major": 2,
       "version_minor": 0
      },
      "text/plain": [
       "Featurizing p:   0%|          | 0/1000 [00:00<?, ?it/s]"
      ]
     },
     "metadata": {},
     "output_type": "display_data"
    },
    {
     "data": {
      "application/vnd.jupyter.widget-view+json": {
       "model_id": "e44893dc7bd74b22aff6c71f55598f5c",
       "version_major": 2,
       "version_minor": 0
      },
      "text/plain": [
       "Featurizing q:   0%|          | 0/3000 [00:00<?, ?it/s]"
      ]
     },
     "metadata": {},
     "output_type": "display_data"
    },
    {
     "name": "stdout",
     "output_type": "stream",
     "text": [
      "0.6420548408125748\n"
     ]
    },
    {
     "name": "stderr",
     "output_type": "stream",
     "text": [
      "/opt/conda/lib/python3.10/site-packages/numpy/core/shape_base.py:65: FutureWarning: The input object of type 'Tensor' is an array-like implementing one of the corresponding protocols (`__array__`, `__array_interface__` or `__array_struct__`); but not a sequence (or 0-D). In the future, this object will be coerced as if it was first converted using `np.array(obj)`. To retain the old behaviour, you have to either modify the type 'Tensor', or assign to an empty array created with `np.empty(correct_shape, dtype=object)`.\n",
      "  ary = asanyarray(ary)\n",
      "/opt/conda/lib/python3.10/site-packages/numpy/core/shape_base.py:65: VisibleDeprecationWarning: Creating an ndarray from ragged nested sequences (which is a list-or-tuple of lists-or-tuples-or ndarrays with different lengths or shapes) is deprecated. If you meant to do this, you must specify 'dtype=object' when creating the ndarray.\n",
      "  ary = asanyarray(ary)\n"
     ]
    },
    {
     "name": "stdout",
     "output_type": "stream",
     "text": [
      "Old model still stands:\n",
      "Current loss:  [2540, tensor(0.0012), tensor(0.1907)] \n",
      "Best loss: [2970, tensor(0.0005), tensor(0.2240)]\n",
      "Running model:  {'seq_len': 22, 'layers': 1, 'hidden1': 128, 'hidden2': 16, 'l': 0.1, 'variance': 0.05, 'data_prob': 0.2, 'noise_model': False}  epochs:  1000000000\n"
     ]
    },
    {
     "name": "stderr",
     "output_type": "stream",
     "text": [
      "/opt/conda/lib/python3.10/site-packages/torch/nn/modules/loss.py:530: UserWarning: Using a target size (torch.Size([60, 1])) that is different to the input size (torch.Size([60])). This will likely lead to incorrect results due to broadcasting. Please ensure they have the same size.\n",
      "  return F.mse_loss(input, target, reduction=self.reduction)\n"
     ]
    },
    {
     "name": "stdout",
     "output_type": "stream",
     "text": [
      "[0, tensor(0.0627), tensor(0.1352)]\n",
      "[10, tensor(0.0611), tensor(0.1691)]\n",
      "[20, tensor(0.0609), tensor(0.1330)]\n",
      "[30, tensor(0.0602), tensor(0.1120)]\n",
      "[40, tensor(0.0597), tensor(0.1660)]\n",
      "[50, tensor(0.0590), tensor(0.1313)]\n",
      "[60, tensor(0.0584), tensor(0.0855)]\n",
      "[70, tensor(0.0573), tensor(0.0962)]\n",
      "[80, tensor(0.0561), tensor(0.1225)]\n",
      "[90, tensor(0.0547), tensor(0.1287)]\n",
      "[100, tensor(0.0529), tensor(0.1344)]\n",
      "[110, tensor(0.0513), tensor(0.1324)]\n",
      "[120, tensor(0.0496), tensor(0.1522)]\n",
      "[130, tensor(0.0480), tensor(0.1503)]\n",
      "[140, tensor(0.0460), tensor(0.1159)]\n",
      "[150, tensor(0.0442), tensor(0.1395)]\n",
      "[160, tensor(0.0426), tensor(0.1547)]\n",
      "[170, tensor(0.0421), tensor(0.2487)]\n",
      "[180, tensor(0.0394), tensor(0.1440)]\n",
      "[190, tensor(0.0377), tensor(0.0897)]\n",
      "[200, tensor(0.0373), tensor(0.1488)]\n",
      "[210, tensor(0.0350), tensor(0.1455)]\n",
      "[220, tensor(0.0337), tensor(0.1071)]\n",
      "[230, tensor(0.0326), tensor(0.1678)]\n",
      "[240, tensor(0.0315), tensor(0.1087)]\n",
      "[250, tensor(0.0304), tensor(0.1470)]\n",
      "[260, tensor(0.0294), tensor(0.1469)]\n",
      "[270, tensor(0.0285), tensor(0.1978)]\n",
      "[280, tensor(0.0274), tensor(0.1717)]\n",
      "[290, tensor(0.0271), tensor(0.1603)]\n",
      "[300, tensor(0.0262), tensor(0.1096)]\n",
      "[310, tensor(0.0253), tensor(0.2076)]\n",
      "[320, tensor(0.0247), tensor(0.1431)]\n",
      "[330, tensor(0.0236), tensor(0.1611)]\n",
      "[340, tensor(0.0230), tensor(0.1618)]\n",
      "[350, tensor(0.0225), tensor(0.0969)]\n",
      "[360, tensor(0.0219), tensor(0.1861)]\n",
      "[370, tensor(0.0211), tensor(0.1856)]\n",
      "[380, tensor(0.0205), tensor(0.1624)]\n",
      "[390, tensor(0.0205), tensor(0.2120)]\n",
      "[400, tensor(0.0201), tensor(0.2130)]\n",
      "[410, tensor(0.0191), tensor(0.2108)]\n",
      "[420, tensor(0.0188), tensor(0.1878)]\n",
      "[430, tensor(0.0183), tensor(0.2215)]\n",
      "[440, tensor(0.0182), tensor(0.1777)]\n",
      "[450, tensor(0.0175), tensor(0.1292)]\n",
      "[460, tensor(0.0173), tensor(0.1752)]\n",
      "[470, tensor(0.0173), tensor(0.2315)]\n",
      "[480, tensor(0.0170), tensor(0.3453)]\n",
      "[490, tensor(0.0162), tensor(0.1801)]\n",
      "[500, tensor(0.0160), tensor(0.1644)]\n",
      "[510, tensor(0.0157), tensor(0.1861)]\n",
      "[520, tensor(0.0158), tensor(0.1735)]\n",
      "[530, tensor(0.0153), tensor(0.1700)]\n",
      "[540, tensor(0.0150), tensor(0.1496)]\n",
      "[550, tensor(0.0147), tensor(0.1897)]\n",
      "[560, tensor(0.0145), tensor(0.2302)]\n",
      "[570, tensor(0.0145), tensor(0.3395)]\n",
      "[580, tensor(0.0145), tensor(0.1601)]\n",
      "[590, tensor(0.0139), tensor(0.1313)]\n",
      "[600, tensor(0.0138), tensor(0.3083)]\n",
      "[610, tensor(0.0137), tensor(0.3289)]\n",
      "[620, tensor(0.0134), tensor(0.1750)]\n",
      "[630, tensor(0.0133), tensor(0.2582)]\n",
      "[640, tensor(0.0129), tensor(0.1466)]\n",
      "[650, tensor(0.0129), tensor(0.1580)]\n",
      "[660, tensor(0.0127), tensor(0.2244)]\n",
      "[670, tensor(0.0125), tensor(0.2036)]\n",
      "[680, tensor(0.0122), tensor(0.2559)]\n",
      "[690, tensor(0.0122), tensor(0.2671)]\n",
      "[700, tensor(0.0119), tensor(0.2899)]\n",
      "[710, tensor(0.0119), tensor(0.3161)]\n",
      "[720, tensor(0.0117), tensor(0.2282)]\n",
      "[730, tensor(0.0116), tensor(0.1646)]\n",
      "[740, tensor(0.0117), tensor(0.2214)]\n",
      "[750, tensor(0.0115), tensor(0.1657)]\n",
      "[760, tensor(0.0114), tensor(0.1932)]\n",
      "[770, tensor(0.0111), tensor(0.1221)]\n",
      "[780, tensor(0.0112), tensor(0.2172)]\n",
      "[790, tensor(0.0108), tensor(0.2230)]\n",
      "[800, tensor(0.0109), tensor(0.3031)]\n",
      "[810, tensor(0.0105), tensor(0.1872)]\n",
      "[820, tensor(0.0106), tensor(0.2053)]\n",
      "[830, tensor(0.0106), tensor(0.2152)]\n",
      "[840, tensor(0.0104), tensor(0.3046)]\n",
      "[850, tensor(0.0103), tensor(0.1595)]\n",
      "[860, tensor(0.0101), tensor(0.3055)]\n",
      "[870, tensor(0.0101), tensor(0.3697)]\n",
      "[880, tensor(0.0102), tensor(0.1323)]\n",
      "[890, tensor(0.0101), tensor(0.1220)]\n",
      "[900, tensor(0.0097), tensor(0.2317)]\n",
      "[910, tensor(0.0098), tensor(0.2612)]\n",
      "[920, tensor(0.0097), tensor(0.2151)]\n",
      "[930, tensor(0.0096), tensor(0.3359)]\n",
      "[940, tensor(0.0096), tensor(0.3172)]\n",
      "[950, tensor(0.0097), tensor(0.2461)]\n",
      "[960, tensor(0.0093), tensor(0.1286)]\n",
      "[970, tensor(0.0093), tensor(0.2146)]\n",
      "[980, tensor(0.0092), tensor(0.2100)]\n",
      "[990, tensor(0.0093), tensor(0.0982)]\n",
      "[1000, tensor(0.0093), tensor(0.1900)]\n",
      "[1010, tensor(0.0092), tensor(0.1914)]\n",
      "[1020, tensor(0.0091), tensor(0.2679)]\n",
      "[1030, tensor(0.0089), tensor(0.1959)]\n"
     ]
    }
   ],
   "source": [
    "from IPython.display import clear_output\n",
    "\n",
    "best_model = None\n",
    "best_history = [\"\"]\n",
    "best_config = None\n",
    "best_score = 1\n",
    "for entry in options:\n",
    "    x_d, y_d = gen.get_generated_data(entry[\"seq_len\"], entry[\"variance\"], entry[\"data_prob\"])\n",
    "    x_t, y_t = gen.get_true_data(entry[\"seq_len\"])\n",
    "    \n",
    "    model = PredictTime(input_size=x_d[0].size()[0],\n",
    "                        output_size=y_d[0].size()[0],\n",
    "                        hidden_layers=entry[\"layers\"],\n",
    "                        h1=entry[\"hidden1\"],\n",
    "                        h2=entry[\"hidden2\"],\n",
    "                        device=device,\n",
    "                       noise=entry[\"noise_model\"]).to(device)\n",
    "    print(\"Running model: \", entry, \" epochs: \", epochs)\n",
    "\n",
    "    \n",
    "    model, history = train_model(model=model,\n",
    "                                 x_data=x_d,\n",
    "                                 y_data=y_d,\n",
    "                                 batch_size=100,\n",
    "                                 epochs=epochs,\n",
    "                                 loss=nn.MSELoss(),\n",
    "                                 optimizer=optim.Adam)\n",
    "    clear_output()\n",
    "    if history[-1][1] < best_score:\n",
    "        print(\"New best model:\\nNew loss: \", history[-1], \"\\nOld loss:\", best_history[-1], \"\\nHistory:\" , history[-10:])\n",
    "        best_model = model\n",
    "        best_history = history\n",
    "        best_score = history[-1][1]\n",
    "        best_config = entry\n",
    "        evaluate_model(best_model, x_t, y_t, entry)\n",
    "    else:\n",
    "        evaluate_model(model, x_t, y_t, entry)\n",
    "        print(\"Old model still stands:\\nCurrent loss: \", history[-1], \"\\nBest loss:\", best_history[-1])\n",
    "                                 \n",
    "\n",
    "    "
   ]
  },
  {
   "cell_type": "markdown",
   "id": "5e6bf7f1-6a30-4132-b171-6161f1ddc034",
   "metadata": {},
   "source": [
    "#### "
   ]
  }
 ],
 "metadata": {
  "kernelspec": {
   "display_name": "Python 3 (ipykernel)",
   "language": "python",
   "name": "python3"
  },
  "language_info": {
   "codemirror_mode": {
    "name": "ipython",
    "version": 3
   },
   "file_extension": ".py",
   "mimetype": "text/x-python",
   "name": "python",
   "nbconvert_exporter": "python",
   "pygments_lexer": "ipython3",
   "version": "3.10.10"
  }
 },
 "nbformat": 4,
 "nbformat_minor": 5
}
