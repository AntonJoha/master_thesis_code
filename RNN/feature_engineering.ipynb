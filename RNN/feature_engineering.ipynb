{
 "cells": [
  {
   "cell_type": "code",
   "execution_count": 1,
   "id": "6ecc6862-1f4c-4dbc-878a-28c97a990926",
   "metadata": {},
   "outputs": [],
   "source": [
    "from parse_data import get_data, get_modified_values\n",
    "from rnn import PredictTime\n",
    "import torch\n",
    "\n",
    "df = get_data()"
   ]
  },
  {
   "cell_type": "code",
   "execution_count": 2,
   "id": "31a932cf-5ecf-4c1f-9513-2400c8cb8686",
   "metadata": {},
   "outputs": [
    {
     "data": {
      "text/plain": [
       "(tensor([[1., 0., 0.,  ..., 0., 0., 0.],\n",
       "         [1., 0., 0.,  ..., 0., 0., 0.],\n",
       "         [0., 0., 0.,  ..., 1., 0., 0.],\n",
       "         ...,\n",
       "         [1., 0., 0.,  ..., 0., 0., 0.],\n",
       "         [0., 0., 0.,  ..., 1., 0., 0.],\n",
       "         [0., 0., 0.,  ..., 0., 1., 0.]]),\n",
       " tensor([[1., 0., 0.,  ..., 0., 0., 0.],\n",
       "         [0., 0., 0.,  ..., 1., 0., 0.],\n",
       "         [1., 0., 0.,  ..., 0., 0., 0.],\n",
       "         ...,\n",
       "         [0., 0., 0.,  ..., 1., 0., 0.],\n",
       "         [0., 0., 0.,  ..., 0., 1., 0.],\n",
       "         [0., 0., 0.,  ..., 0., 1., 0.]]))"
      ]
     },
     "execution_count": 2,
     "metadata": {},
     "output_type": "execute_result"
    }
   ],
   "source": [
    "\n",
    "def make_data(df):\n",
    "\n",
    "    x_train, y_train = [], []\n",
    "    prev = None\n",
    "\n",
    "    for row in df:\n",
    "        if prev is None:\n",
    "            prev = row\n",
    "        x_train.append(prev)\n",
    "        y_train.append(row)\n",
    "        prev = row\n",
    "    return torch.stack(x_train).float(),torch.stack(y_train).float()\n",
    "\n",
    "make_data(get_modified_values(get_data()))\n",
    "\n"
   ]
  },
  {
   "cell_type": "code",
   "execution_count": null,
   "id": "e8f71633-04f1-488e-8421-3df5644a11a7",
   "metadata": {},
   "outputs": [
    {
     "name": "stdout",
     "output_type": "stream",
     "text": [
      "Epoch 0 Loss 1153.3618\n",
      "Epoch 10 Loss 1145.5801\n",
      "Epoch 20 Loss 1144.0941\n",
      "Epoch 30 Loss 1142.9624\n",
      "Epoch 40 Loss 1143.9106\n",
      "Epoch 50 Loss 1142.5227\n"
     ]
    }
   ],
   "source": [
    "import numpy as np\n",
    "import torch.optim as optim\n",
    "import torch.utils.data as data\n",
    "from IPython.display import clear_output\n",
    "import torch.nn as nn\n",
    "\n",
    "batch_size = 10\n",
    "x_d, y_d = make_data(get_modified_values(get_data()))\n",
    "\n",
    "model = PredictTime(input_size=x_d[0].size()[0],\n",
    "                    output_size=y_d[0].size()[0],\n",
    "                    hidden_layers=10,\n",
    "                    hidden_size=100)\n",
    "optimizer = optim.Adam(model.parameters(),lr=0.01)\n",
    "\n",
    "loss = nn.CrossEntropyLoss()\n",
    "loader = data.DataLoader(data.TensorDataset(x_d,y_d), batch_size=batch_size)\n",
    "epochs = 1000\n",
    "for e in range(epochs):\n",
    "    model.train()\n",
    "    #print(next(iter(loader)))\n",
    "    model.clean_state()\n",
    "    for x, y in loader:\n",
    "                \n",
    "        model.init_state()\n",
    "        y_pred = model(x)\n",
    "        l = loss(y_pred, y)\n",
    "        optimizer.zero_grad()\n",
    "        l.backward()\n",
    "        optimizer.step()\n",
    "    if e % 10 != 0:\n",
    "        continue\n",
    "    #clear_output(wait=True)\n",
    "    sum_loss = 0\n",
    "\n",
    "    for x, y in loader:\n",
    "        model.eval()\n",
    "        with torch.no_grad():\n",
    "            y_pred = model(x)\n",
    "            sum_loss += np.sqrt(loss(y_pred, y))\n",
    "    \n",
    "    print(\"Epoch %d Loss %.4f\" % (e, sum_loss))\n",
    "    \n",
    "    \n",
    "#for d in df.values:"
   ]
  },
  {
   "cell_type": "code",
   "execution_count": null,
   "id": "f76e66f0-9596-4127-b7c4-835709e375e9",
   "metadata": {},
   "outputs": [],
   "source": []
  }
 ],
 "metadata": {
  "kernelspec": {
   "display_name": "Python 3 (ipykernel)",
   "language": "python",
   "name": "python3"
  },
  "language_info": {
   "codemirror_mode": {
    "name": "ipython",
    "version": 3
   },
   "file_extension": ".py",
   "mimetype": "text/x-python",
   "name": "python",
   "nbconvert_exporter": "python",
   "pygments_lexer": "ipython3",
   "version": "3.11.7"
  }
 },
 "nbformat": 4,
 "nbformat_minor": 5
}
