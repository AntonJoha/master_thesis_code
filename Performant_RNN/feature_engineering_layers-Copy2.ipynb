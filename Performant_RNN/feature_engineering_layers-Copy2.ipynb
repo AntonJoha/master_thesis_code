{
 "cells": [
  {
   "cell_type": "code",
   "execution_count": 1,
   "id": "6ecc6862-1f4c-4dbc-878a-28c97a990926",
   "metadata": {},
   "outputs": [
    {
     "name": "stdout",
     "output_type": "stream",
     "text": [
      "Using device:  cuda\n"
     ]
    }
   ],
   "source": [
    "from parse_data import get_data, get_modified_values, get_binary_values, make_data_scalar\n",
    "from rnn_layers import PredictTime\n",
    "import torch\n",
    "\n",
    "device = torch.device('cuda' if torch.cuda.is_available() else 'cpu')\n",
    "print(\"Using device: \", device)\n",
    "\n",
    "df = get_data()"
   ]
  },
  {
   "cell_type": "code",
   "execution_count": 2,
   "id": "31a932cf-5ecf-4c1f-9513-2400c8cb8686",
   "metadata": {},
   "outputs": [
    {
     "name": "stdout",
     "output_type": "stream",
     "text": [
      "torch.Size([1])\n"
     ]
    },
    {
     "data": {
      "text/plain": [
       "(tensor([[1.],\n",
       "         [1.],\n",
       "         [0.],\n",
       "         ...,\n",
       "         [1.],\n",
       "         [0.],\n",
       "         [1.]], device='cuda:0'),\n",
       " tensor([[1.],\n",
       "         [0.],\n",
       "         [1.],\n",
       "         ...,\n",
       "         [0.],\n",
       "         [1.],\n",
       "         [1.]], device='cuda:0'))"
      ]
     },
     "execution_count": 2,
     "metadata": {},
     "output_type": "execute_result"
    }
   ],
   "source": [
    "\n",
    "def make_data(df, device):\n",
    "\n",
    "    x_train, y_train = [], []\n",
    "    prev = None\n",
    "\n",
    "    for row in df:\n",
    "        if prev is None:\n",
    "            prev = row\n",
    "        x_train.append(prev)\n",
    "        y_train.append(row)\n",
    "        prev = row\n",
    "    print(x_train[0].size())\n",
    "    return torch.stack(x_train).float().to(device),torch.stack(y_train).float().to(device)\n",
    "\n",
    "make_data(get_binary_values(get_data()), device)\n",
    "\n"
   ]
  },
  {
   "cell_type": "code",
   "execution_count": null,
   "id": "e8f71633-04f1-488e-8421-3df5644a11a7",
   "metadata": {},
   "outputs": [
    {
     "name": "stdout",
     "output_type": "stream",
     "text": [
      "Max value:  1000\n",
      "torch.Size([8152, 1]) torch.Size([8152, 1])\n",
      "Epoch 0 Loss 31.3637\n",
      "Epoch 10 Loss 32.5288\n",
      "Epoch 20 Loss 30.1586\n",
      "Epoch 30 Loss 29.8605\n",
      "Epoch 40 Loss 29.5764\n",
      "Epoch 50 Loss 29.5055\n",
      "Epoch 60 Loss 29.5284\n",
      "Epoch 70 Loss 29.2515\n",
      "Epoch 80 Loss 28.9021\n",
      "Epoch 90 Loss 28.6338\n",
      "Epoch 100 Loss 28.4774\n",
      "Epoch 110 Loss 28.4211\n",
      "Epoch 120 Loss 28.4147\n"
     ]
    }
   ],
   "source": [
    "import numpy as np\n",
    "import torch.optim as optim\n",
    "import torch.utils.data as data\n",
    "from IPython.display import clear_output\n",
    "import torch.nn as nn\n",
    "import random\n",
    "\n",
    "batch_size = 100\n",
    "x_d, y_d = make_data_scalar(get_data(), device)\n",
    "\n",
    "print(y_d.size(), x_d.size())\n",
    "\n",
    "model = PredictTime(input_size=x_d[0].size()[0],\n",
    "                    output_size=y_d[0].size()[0],\n",
    "                    hidden_layers=3,\n",
    "                    hidden_size=50, device=device).to(device)\n",
    "optimizer = optim.Adam(model.parameters(),lr=0.01)\n",
    "\n",
    "loss = nn.MSELoss()\n",
    "loader = data.DataLoader(data.TensorDataset(x_d,y_d), batch_size=batch_size)\n",
    "epochs = 5000\n",
    "for e in range(epochs):\n",
    "    model.train()\n",
    "    #print(next(iter(loader)))\n",
    "    model.clean_state()\n",
    "    res = []\n",
    "    \n",
    "    \n",
    "    if random.random() < e/(epochs*2):\n",
    "        model.teacher_forcing = False\n",
    "    else:\n",
    "        model.teacher_forcing = True\n",
    "    \n",
    "    for x, y in loader:\n",
    "        \n",
    "        if random.random() < 0.5:\n",
    "            continue\n",
    "        model.random_state()\n",
    "        \n",
    "        \n",
    "        y_pred = model(x)\n",
    "        l = loss(y_pred, y)\n",
    "        res.append(l)\n",
    "        #print(y_pred, y)\n",
    "    \n",
    "    \n",
    "    l = res[0]\n",
    "    for i in res[1:]:\n",
    "        l += i\n",
    "    optimizer.zero_grad()\n",
    "    l.backward()\n",
    "    optimizer.step()\n",
    "    if e % 10 != 0:\n",
    "        continue\n",
    "    #clear_output(wait=True)\n",
    "    sum_loss = 0\n",
    "    #print(list(model.parameters())[-1])\n",
    "\n",
    "    for x, y in loader:\n",
    "        model.eval()\n",
    "        with torch.no_grad():\n",
    "            y_pred = model(x)\n",
    "            sum_loss += np.sqrt(loss(y_pred, y).cpu())\n",
    "    \n",
    "    print(\"Epoch %d Loss %.4f\" % (e, sum_loss))\n",
    "    \n",
    "    \n",
    "#for d in df.values:"
   ]
  },
  {
   "cell_type": "code",
   "execution_count": null,
   "id": "f76e66f0-9596-4127-b7c4-835709e375e9",
   "metadata": {
    "tags": []
   },
   "outputs": [],
   "source": [
    "import matplotlib.pyplot as plt\n",
    "\n",
    "def eval_model(x,y,m):\n",
    "    df = get_data() \n",
    "    maxtime = df.max()[1]\n",
    "\n",
    "    res = []\n",
    "    m.eval()\n",
    "    m.clean_state()\n",
    "    count  = 1\n",
    "    prev = x[0][0]\n",
    "    for i in x:\n",
    "        t = torch.tensor([[prev]]).to(device)\n",
    "        prev = i\n",
    "        val = m(t)\n",
    "        count += 1\n",
    "        res.append(val.detach().cpu()[0])\n",
    "    \n",
    "    loss = nn.MSELoss()\n",
    "    print(np.sqrt(loss(torch.tensor(res).to(device),y.squeeze()).cpu()))\n",
    "    \n",
    "\n",
    "    fig, ax = plt.subplots(2)\n",
    "    \n",
    "    ax[0].plot(range(1,51), res[:50])\n",
    "    ax[0].plot( range(1,51), y[:50].cpu())\n",
    "\n",
    "    ax[1].plot(range(2000,2050), res[2000:2050])\n",
    "    \n",
    "    ax[1].plot(range(2000,2050), y[2000:2050].cpu() )\n",
    "    fig.suptitle(\"Result when feeding correct values as input\")\n",
    "    fig.savefig(\"teacher_forcing.png\")\n",
    "\n",
    "\n",
    "amount = 1000\n",
    "eval_model(x_d,y_d,model)\n"
   ]
  },
  {
   "cell_type": "code",
   "execution_count": null,
   "id": "d2aa2663-d7c6-4407-8f5d-e8e3ab650e15",
   "metadata": {
    "tags": []
   },
   "outputs": [],
   "source": [
    "import matplotlib.pyplot as plt\n",
    "\n",
    "def eval_model(x,y,m):\n",
    "    df = get_data() \n",
    "    maxtime = df.max()[1]\n",
    "\n",
    "    res = []\n",
    "    m.eval()\n",
    "    m.clean_state()\n",
    "    count  = 1\n",
    "    prev = x[0][0]\n",
    "    for i in x:\n",
    "        t = torch.tensor([[prev]]).to(device)\n",
    "        prev = i\n",
    "        val = m(t)\n",
    "        prev = val\n",
    "        count += 1\n",
    "        res.append(val.detach().cpu()[0])\n",
    "    \n",
    "    loss = nn.MSELoss()\n",
    "    print(np.sqrt(loss(torch.tensor(res).to(device),y.squeeze()).cpu()))\n",
    "    \n",
    "    fig, ax = plt.subplots(2)\n",
    "    \n",
    "    ax[0].plot(range(1,51), res[:50])\n",
    "    ax[0].plot( range(1,51), y[:50].cpu())\n",
    "\n",
    "    ax[1].plot(range(2000,2050), res[2000:2050])\n",
    "    \n",
    "    ax[1].plot(range(2000,2050), y[2000:2050].cpu() )\n",
    "    fig.suptitle(\"Result without feeding correct values as input\")\n",
    "    fig.savefig(\"teacher_forcing_not_correct.png\")\n",
    "    \n",
    "amount = 1000\n",
    "eval_model(x_d,y_d,model)\n"
   ]
  },
  {
   "cell_type": "code",
   "execution_count": null,
   "id": "186992f6-b7a6-446e-9556-d36b32bb5bed",
   "metadata": {},
   "outputs": [],
   "source": []
  }
 ],
 "metadata": {
  "kernelspec": {
   "display_name": "Python 3 (ipykernel)",
   "language": "python",
   "name": "python3"
  },
  "language_info": {
   "codemirror_mode": {
    "name": "ipython",
    "version": 3
   },
   "file_extension": ".py",
   "mimetype": "text/x-python",
   "name": "python",
   "nbconvert_exporter": "python",
   "pygments_lexer": "ipython3",
   "version": "3.10.10"
  }
 },
 "nbformat": 4,
 "nbformat_minor": 5
}
