{
 "cells": [
  {
   "cell_type": "markdown",
   "id": "75639b7e-d5d2-4e27-ad5a-39f44e55f70d",
   "metadata": {},
   "source": [
    "# "
   ]
  },
  {
   "cell_type": "code",
   "execution_count": 1,
   "id": "5c4b1a05-7c0c-4eb8-847a-3e596ff4f903",
   "metadata": {},
   "outputs": [
    {
     "name": "stdout",
     "output_type": "stream",
     "text": [
      "Using device:  cpu\n"
     ]
    }
   ],
   "source": [
    "from parameter_tuning import train_model\n",
    "from rnn_layers import PredictTime\n",
    "import torch\n",
    "import torch.optim as optim\n",
    "import torch.nn as nn\n",
    "from parse_data import get_data, get_modified_values, get_binary_values, make_data_scalar\n",
    "\n",
    "device = torch.device('cuda' if torch.cuda.is_available() else 'cpu')\n",
    "print(\"Using device: \", device)\n",
    "\n",
    "\n",
    "# Hyperparameters\n",
    "sequence_length = [10,15,50,100,200]\n",
    "hidden_layers = [1, 2, 5]\n",
    "hidden_size = [10, 25, 50, 100]\n",
    "lr = [0.001, 0.01, 0.1, 0.005, 0.05,0.5]\n",
    "epochs = 100\n",
    "optimizer = [optim.Adam]"
   ]
  },
  {
   "cell_type": "code",
   "execution_count": 2,
   "id": "1db29a8a-1fb6-4430-b650-5010f29295ee",
   "metadata": {},
   "outputs": [
    {
     "name": "stdout",
     "output_type": "stream",
     "text": [
      "torch.Size([1])\n"
     ]
    },
    {
     "data": {
      "text/plain": [
       "(tensor([[1.],\n",
       "         [1.],\n",
       "         [0.],\n",
       "         ...,\n",
       "         [1.],\n",
       "         [0.],\n",
       "         [1.]]),\n",
       " tensor([[1.],\n",
       "         [0.],\n",
       "         [1.],\n",
       "         ...,\n",
       "         [0.],\n",
       "         [1.],\n",
       "         [1.]]))"
      ]
     },
     "execution_count": 2,
     "metadata": {},
     "output_type": "execute_result"
    }
   ],
   "source": [
    "def make_data(df, device):\n",
    "\n",
    "    x_train, y_train = [], []\n",
    "    prev = None\n",
    "\n",
    "    for row in df:\n",
    "        if prev is None:\n",
    "            prev = row\n",
    "        x_train.append(prev)\n",
    "        y_train.append(row)\n",
    "        prev = row\n",
    "    print(x_train[0].size())\n",
    "    return torch.stack(x_train).float().to(device),torch.stack(y_train).float().to(device)\n",
    "\n",
    "make_data(get_binary_values(get_data()), device)"
   ]
  },
  {
   "cell_type": "code",
   "execution_count": 3,
   "id": "56ac1b1a-c4fb-4952-9716-6983d1b8595e",
   "metadata": {},
   "outputs": [],
   "source": [
    "import random\n",
    "\n",
    "options = []\n",
    "\n",
    "for seq_len in sequence_length:\n",
    "    for layers in hidden_layers:\n",
    "        for hidden in hidden_size:\n",
    "            for forcing in [True, False]:\n",
    "                for l in lr:\n",
    "                    entry = {}\n",
    "                    entry[\"seq_len\"] = seq_len\n",
    "                    entry[\"layers\"] = layers\n",
    "                    entry[\"hidden\"] = hidden\n",
    "                    entry[\"forcing\"] = forcing\n",
    "                    entry[\"l\"] = l\n",
    "                    options.append(entry)\n",
    "                \n",
    "                                         \n",
    "random.shuffle(options)    \n"
   ]
  },
  {
   "cell_type": "code",
   "execution_count": null,
   "id": "d88f4de2-78fb-4d25-b509-f9e272a6995c",
   "metadata": {},
   "outputs": [
    {
     "name": "stdout",
     "output_type": "stream",
     "text": [
      "torch.Size([1])\n"
     ]
    }
   ],
   "source": [
    "\n",
    "x_d, y_d = make_data(get_binary_values(get_data()), device)\n",
    "\n",
    "best_model = None\n",
    "best_history = None\n",
    "best_score = 100000000000000\n",
    "for entry in options:\n",
    "    model = PredictTime(input_size=x_d[0].size()[0],\n",
    "                        output_size=y_d[0].size()[0],\n",
    "                        hidden_layers=entry[\"layers\"],\n",
    "                        hidden_size=entry[\"hidden\"],\n",
    "                        device=device).to(device)\n",
    "    model, history = train_model(model=model,\n",
    "                                 x_data=x_d,\n",
    "                                 y_data=y_d,\n",
    "                                 sequence_length=entry[\"seq_len\"],\n",
    "                                 epochs=epochs,\n",
    "                                 loss=nn.BCELoss(),\n",
    "                                 optimizer=optim.Adam,\n",
    "                                 strict_teacher_forcing=entry[\"forcing\"])\n",
    "    if history[-1][1] < best_score:\n",
    "        print(\"New best model:\\nNew loss: \", history[-1], \"\\nOld loss:\", best_history[-1])\n",
    "        best_model = model\n",
    "        best_history = history\n",
    "        best_score = history[-1][1]\n",
    "    else:\n",
    "        print(\"Old model still stands:\\Current loss: \", history[-1], \"\\Best loss:\", best_history[-1])\n",
    "                                 \n",
    "\n",
    "    "
   ]
  },
  {
   "cell_type": "code",
   "execution_count": null,
   "id": "a7150a44-2202-4ad6-b51d-e643d85c37bc",
   "metadata": {},
   "outputs": [],
   "source": []
  }
 ],
 "metadata": {
  "kernelspec": {
   "display_name": "Python 3 (ipykernel)",
   "language": "python",
   "name": "python3"
  },
  "language_info": {
   "codemirror_mode": {
    "name": "ipython",
    "version": 3
   },
   "file_extension": ".py",
   "mimetype": "text/x-python",
   "name": "python",
   "nbconvert_exporter": "python",
   "pygments_lexer": "ipython3",
   "version": "3.11.7"
  }
 },
 "nbformat": 4,
 "nbformat_minor": 5
}
