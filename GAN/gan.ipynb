{
 "cells": [
  {
   "cell_type": "markdown",
   "id": "75639b7e-d5d2-4e27-ad5a-39f44e55f70d",
   "metadata": {},
   "source": [
    "# "
   ]
  },
  {
   "cell_type": "code",
   "execution_count": 1,
   "id": "5c4b1a05-7c0c-4eb8-847a-3e596ff4f903",
   "metadata": {},
   "outputs": [
    {
     "name": "stdout",
     "output_type": "stream",
     "text": [
      "Requirement already satisfied: mauve-text in /opt/conda/lib/python3.10/site-packages (0.3.0)\n",
      "Requirement already satisfied: numpy>=1.18.1 in /opt/conda/lib/python3.10/site-packages (from mauve-text) (1.23.5)\n",
      "Requirement already satisfied: scikit-learn>=0.22.1 in /opt/conda/lib/python3.10/site-packages (from mauve-text) (1.2.2)\n",
      "Requirement already satisfied: faiss-cpu>=1.7.0 in /opt/conda/lib/python3.10/site-packages (from mauve-text) (1.8.0)\n",
      "Requirement already satisfied: tqdm>=4.40.0 in /opt/conda/lib/python3.10/site-packages (from mauve-text) (4.65.0)\n",
      "Requirement already satisfied: requests in /opt/conda/lib/python3.10/site-packages (from mauve-text) (2.28.2)\n",
      "Requirement already satisfied: scipy>=1.3.2 in /opt/conda/lib/python3.10/site-packages (from scikit-learn>=0.22.1->mauve-text) (1.10.1)\n",
      "Requirement already satisfied: joblib>=1.1.1 in /opt/conda/lib/python3.10/site-packages (from scikit-learn>=0.22.1->mauve-text) (1.2.0)\n",
      "Requirement already satisfied: threadpoolctl>=2.0.0 in /opt/conda/lib/python3.10/site-packages (from scikit-learn>=0.22.1->mauve-text) (3.1.0)\n",
      "Requirement already satisfied: charset-normalizer<4,>=2 in /opt/conda/lib/python3.10/site-packages (from requests->mauve-text) (3.1.0)\n",
      "Requirement already satisfied: idna<4,>=2.5 in /opt/conda/lib/python3.10/site-packages (from requests->mauve-text) (3.4)\n",
      "Requirement already satisfied: urllib3<1.27,>=1.21.1 in /opt/conda/lib/python3.10/site-packages (from requests->mauve-text) (1.26.15)\n",
      "Requirement already satisfied: certifi>=2017.4.17 in /opt/conda/lib/python3.10/site-packages (from requests->mauve-text) (2023.11.17)\n",
      "Requirement already satisfied: transformers in /opt/conda/lib/python3.10/site-packages (4.38.2)\n",
      "Requirement already satisfied: filelock in /opt/conda/lib/python3.10/site-packages (from transformers) (3.13.1)\n",
      "Requirement already satisfied: huggingface-hub<1.0,>=0.19.3 in /opt/conda/lib/python3.10/site-packages (from transformers) (0.21.4)\n",
      "Requirement already satisfied: numpy>=1.17 in /opt/conda/lib/python3.10/site-packages (from transformers) (1.23.5)\n",
      "Requirement already satisfied: packaging>=20.0 in /opt/conda/lib/python3.10/site-packages (from transformers) (23.1)\n",
      "Requirement already satisfied: pyyaml>=5.1 in /opt/conda/lib/python3.10/site-packages (from transformers) (6.0)\n",
      "Requirement already satisfied: regex!=2019.12.17 in /opt/conda/lib/python3.10/site-packages (from transformers) (2023.12.25)\n",
      "Requirement already satisfied: requests in /opt/conda/lib/python3.10/site-packages (from transformers) (2.28.2)\n",
      "Requirement already satisfied: tokenizers<0.19,>=0.14 in /opt/conda/lib/python3.10/site-packages (from transformers) (0.15.2)\n",
      "Requirement already satisfied: safetensors>=0.4.1 in /opt/conda/lib/python3.10/site-packages (from transformers) (0.4.2)\n",
      "Requirement already satisfied: tqdm>=4.27 in /opt/conda/lib/python3.10/site-packages (from transformers) (4.65.0)\n",
      "Requirement already satisfied: fsspec>=2023.5.0 in /opt/conda/lib/python3.10/site-packages (from huggingface-hub<1.0,>=0.19.3->transformers) (2024.2.0)\n",
      "Requirement already satisfied: typing-extensions>=3.7.4.3 in /opt/conda/lib/python3.10/site-packages (from huggingface-hub<1.0,>=0.19.3->transformers) (4.5.0)\n",
      "Requirement already satisfied: charset-normalizer<4,>=2 in /opt/conda/lib/python3.10/site-packages (from requests->transformers) (3.1.0)\n",
      "Requirement already satisfied: idna<4,>=2.5 in /opt/conda/lib/python3.10/site-packages (from requests->transformers) (3.4)\n",
      "Requirement already satisfied: urllib3<1.27,>=1.21.1 in /opt/conda/lib/python3.10/site-packages (from requests->transformers) (1.26.15)\n",
      "Requirement already satisfied: certifi>=2017.4.17 in /opt/conda/lib/python3.10/site-packages (from requests->transformers) (2023.11.17)\n",
      "Using device:  cuda\n"
     ]
    }
   ],
   "source": [
    "!pip install mauve-text\n",
    "!pip install transformers\n",
    "from parameter_tuning import train_model\n",
    "from generator import Generator\n",
    "from discriminator import Discriminator\n",
    "import torch\n",
    "import torch.optim as optim\n",
    "import torch.nn as nn\n",
    "from parse_data import get_data, get_modified_values, get_binary_values, make_data_scalar\n",
    "import numpy as np\n",
    "from evaluation import evaluate_model, bin_plot\n",
    "import random\n",
    "from data_gen import Datagen\n",
    "\n",
    "device = torch.device('cuda' if torch.cuda.is_available() else 'cpu')\n",
    "print(\"Using device: \", device)\n",
    "\n",
    " "
   ]
  },
  {
   "cell_type": "code",
   "execution_count": 2,
   "id": "6c85aa94-51d0-4137-b935-b5ca2ed3b180",
   "metadata": {},
   "outputs": [
    {
     "name": "stdout",
     "output_type": "stream",
     "text": [
      "tensor([[[0.0000],\n",
      "         [0.0000]],\n",
      "\n",
      "        [[0.0000],\n",
      "         [0.0000]],\n",
      "\n",
      "        [[0.0000],\n",
      "         [0.0000]],\n",
      "\n",
      "        ...,\n",
      "\n",
      "        [[0.9849],\n",
      "         [1.0000]],\n",
      "\n",
      "        [[1.0000],\n",
      "         [0.9974]],\n",
      "\n",
      "        [[1.0000],\n",
      "         [1.0000]]], device='cuda:0')\n"
     ]
    },
    {
     "data": {
      "image/png": "[encoded data removed]",
      "text/plain": [
       "<Figure size 1200x1200 with 1 Axes>"
      ]
     },
     "metadata": {},
     "output_type": "display_data"
    }
   ],
   "source": [
    "gen = Datagen(device)\n",
    "\n",
    "x, y = gen.get_true_data(10)\n",
    "\n",
    "\n",
    "\n",
    "bin_plot(y, 0, 1, None, 0.05)\n",
    "\n",
    "x_d, y_d = gen.get_generated_data(seq_len=2)\n",
    "print(x_d)\n"
   ]
  },
  {
   "cell_type": "code",
   "execution_count": 3,
   "id": "56ac1b1a-c4fb-4952-9716-6983d1b8595e",
   "metadata": {},
   "outputs": [
    {
     "name": "stdout",
     "output_type": "stream",
     "text": [
      "[1, 2, 1, 2, 1, 2, 1, 2, 1, 2, 1, 2, 1, 2, 1, 2, 1, 2, 1, 2]\n"
     ]
    }
   ],
   "source": [
    "import random\n",
    "\n",
    "# Hyperparameters\n",
    "sequence_length = [2*i for i in range(4,16)] # 2-20 increments of two\n",
    "hidden_layers = [1,2]*10 # 1 and 2\n",
    "hidden_1 = [2**i for i in range(5,10)] # 2^4 to 2^9\n",
    "hidden_2 =[2**i for i in range(5,10)] # 2^2 to 2^5\n",
    "variance = [0.001, 0.01, 0.005, 0.05]\n",
    "lr = [0.001, 0.01, 0.1, 0.005] # stop at 0.005\n",
    "data_probability = [i/5 for i in range(1,6)]\n",
    "noise_in_model = [True, False]\n",
    "epochs = 3500\n",
    "optimizer = [optim.Adam, optim.SGD]\n",
    "print(hidden_layers)\n",
    "\n",
    "options = []\n",
    "\n",
    "for seq_len in sequence_length:\n",
    "    for layers in hidden_layers:\n",
    "        for h1 in hidden_1:\n",
    "            for h2 in hidden_2:\n",
    "                for l in lr:\n",
    "                    for v in variance:\n",
    "                        for p in data_probability:\n",
    "                            for n in noise_in_model:\n",
    "                                entry = {}\n",
    "                                entry[\"seq_len\"] = seq_len\n",
    "                                entry[\"layers\"] = layers\n",
    "                                entry[\"gen\"] = h1\n",
    "                                entry[\"disc\"] = h2\n",
    "                                entry[\"l\"] = l\n",
    "                                entry[\"variance\"] = v\n",
    "                                entry[\"data_prob\"] = p\n",
    "                                entry[\"noise_model\"] = n\n",
    "                                options.append(entry)\n",
    "                \n",
    "                                         \n",
    "random.shuffle(options)    \n",
    "\n"
   ]
  },
  {
   "cell_type": "code",
   "execution_count": null,
   "id": "d88f4de2-78fb-4d25-b509-f9e272a6995c",
   "metadata": {},
   "outputs": [
    {
     "name": "stdout",
     "output_type": "stream",
     "text": [
      "input dim torch.Size([26, 1])\n",
      "Running model:  {'seq_len': 26, 'layers': 1, 'gen': 256, 'disc': 128, 'l': 0.1, 'variance': 0.01, 'data_prob': 0.4, 'noise_model': True}  epochs:  3500\n",
      "[0, 0.11474552295382279, 87.8751160800457]\n",
      "[10, 0.11472146271414296, 87.92302782088518]\n",
      "[20, 0.10482289293883053, 80.17142739892006]\n",
      "[30, 0.27805768151818616, 213.64410042762756]\n",
      "[40, 0.15010286363780342, 114.25262275338173]\n",
      "[50, 0.1380682083396314, 106.1486749202013]\n",
      "[60, 0.1628083413559214, 125.01149868965149]\n",
      "[70, 0.19290634795206335, 148.59538599848747]\n",
      "[80, 0.182119581897016, 139.55276104807854]\n",
      "[90, 0.16087634258419664, 125.06360764801502]\n",
      "[100, 0.12062525142266296, 91.70542748272419]\n",
      "[110, 0.09112199752861463, 69.76300451159477]\n",
      "[120, 0.14978092476997923, 115.07674326002598]\n",
      "[130, 0.12613347194135657, 95.44865208864212]\n",
      "[140, 0.17093501679657644, 130.77953968942165]\n",
      "[150, 0.14107852637300913, 109.1000238507986]\n",
      "[160, 0.1623681547514141, 124.24215593934059]\n",
      "[170, 0.1248753697224759, 96.87994237244129]\n",
      "[180, 0.10997985534895183, 84.91804296523333]\n",
      "[190, 0.15543433053141786, 119.52274265885353]\n",
      "[200, 0.1520727368037632, 115.28728047013283]\n",
      "[210, 0.13476421654846898, 103.30996561050415]\n",
      "[220, 0.11015923181183968, 84.58016708493233]\n",
      "[230, 0.1359940691226145, 105.31257405877113]\n",
      "[240, 0.13786655777272605, 104.18171717226505]\n",
      "[250, 0.13891287290007265, 104.88416093587875]\n",
      "[260, 0.18450471066308083, 140.2562085390091]\n",
      "[270, 0.14503230382116905, 111.1227446347475]\n",
      "[280, 0.14528971237395513, 112.13575606048107]\n",
      "[290, 0.17374804999202723, 133.46242210268974]\n",
      "[300, 0.1410535968081447, 106.88060900568962]\n",
      "[310, 0.16195431894406326, 124.24802830815315]\n",
      "[320, 0.1522828051650182, 116.0975362509489]\n",
      "[330, 0.16862710184045623, 128.60361468791962]\n",
      "[340, 0.16346024846361448, 126.29063656926155]\n",
      "[350, 0.14244950062767955, 111.22691075503826]\n",
      "[360, 0.16329255320773733, 125.29444213211536]\n",
      "[370, 0.1518959528511249, 118.33678993582726]\n",
      "[380, 0.16065701663338483, 120.92082498967648]\n",
      "[390, 0.1715712988501118, 131.04366853833199]\n"
     ]
    }
   ],
   "source": [
    "from IPython.display import clear_output\n",
    "\n",
    "best_model = None\n",
    "best_history = [\"\"]\n",
    "best_config = None\n",
    "best_score = 1\n",
    "for entry in options:\n",
    "    x_d, y_d = gen.get_generated_data(entry[\"seq_len\"], entry[\"variance\"], entry[\"data_prob\"])\n",
    "    x_t, y_t = gen.get_true_data(entry[\"seq_len\"])\n",
    "    x_val, y_val = gen.get_test_data(entry[\"seq_len\"])\n",
    "    \n",
    "    model_g = Generator(input_dim=x_d[0].size()[1],\n",
    "                        output_dim=y_d[0].size()[0],\n",
    "                        layers=entry[\"layers\"],\n",
    "                        g_size=entry[\"gen\"],\n",
    "                        device=device).to(device)\n",
    "    print(\"input dim\", x_d[0].size())\n",
    "    model_d = Discriminator(input_dim=x_d[0].size()[1],\n",
    "                            output_dim=y_d[0].size()[0],\n",
    "                            layers=entry[\"layers\"],\n",
    "                            hidden_size=entry[\"disc\"],\n",
    "                            device=device).to(device)\n",
    "    \n",
    "    \n",
    "    print(\"Running model: \", entry, \" epochs: \", epochs)\n",
    "\n",
    "    \n",
    "    model, history = train_model(model_g=model_g,\n",
    "                                 model_d=model_d,\n",
    "                                 x_data=x_d,\n",
    "                                 y_data=y_d,\n",
    "                                 batch_size=100,\n",
    "                                 seq_len=entry[\"seq_len\"],\n",
    "                                 epochs=epochs,\n",
    "                                 loss=nn.MSELoss(),\n",
    "                                 optimizer=optim.Adam,\n",
    "                                device=device)\n",
    "    clear_output()\n",
    "    if history[-1][1] < best_score:\n",
    "        print(\"New best model:\\nNew loss: \", history[-1], \"\\nOld loss:\", best_history[-1], \"\\nHistory:\" , history[-10:])\n",
    "        best_model = model\n",
    "        best_history = history\n",
    "        best_score = history[-1][1]\n",
    "        best_config = entry\n",
    "        evaluate_model(best_model, x_t, y_t,x_val,y_val, entry)\n",
    "    else:\n",
    "        evaluate_model(model, x_t, y_t,x_val,y_val, entry)\n",
    "        print(\"Old model still stands:\\nCurrent loss: \", history[-1], \"\\nBest loss:\", best_history[-1])\n",
    "                                 \n",
    "\n",
    "    "
   ]
  },
  {
   "cell_type": "markdown",
   "id": "5e6bf7f1-6a30-4132-b171-6161f1ddc034",
   "metadata": {},
   "source": [
    "#### "
   ]
  }
 ],
 "metadata": {
  "kernelspec": {
   "display_name": "Python 3 (ipykernel)",
   "language": "python",
   "name": "python3"
  },
  "language_info": {
   "codemirror_mode": {
    "name": "ipython",
    "version": 3
   },
   "file_extension": ".py",
   "mimetype": "text/x-python",
   "name": "python",
   "nbconvert_exporter": "python",
   "pygments_lexer": "ipython3",
   "version": "3.10.10"
  }
 },
 "nbformat": 4,
 "nbformat_minor": 5
}
