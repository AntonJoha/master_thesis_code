{
 "cells": [
  {
   "cell_type": "code",
   "execution_count": 1,
   "id": "664ce8b7",
   "metadata": {},
   "outputs": [],
   "source": [
    "\n",
    "from parse_data import get_data\n",
    "from gan import Generator\n",
    "\n",
    "df = get_data()"
   ]
  },
  {
   "cell_type": "code",
   "execution_count": 2,
   "id": "27a9c83a",
   "metadata": {},
   "outputs": [
    {
     "data": {
      "text/plain": [
       "-427061"
      ]
     },
     "execution_count": 2,
     "metadata": {},
     "output_type": "execute_result"
    }
   ],
   "source": [
    "df[\"creation_time\"][0] - df[\"creation_time\"][1]"
   ]
  },
  {
   "cell_type": "code",
   "execution_count": 3,
   "id": "76a1194e",
   "metadata": {},
   "outputs": [
    {
     "data": {
      "text/plain": [
       "1582.8439455281562"
      ]
     },
     "execution_count": 3,
     "metadata": {},
     "output_type": "execute_result"
    }
   ],
   "source": [
    "average_diff = 0\n",
    "\n",
    "c_time = df[\"creation_time\"]\n",
    "\n",
    "for i in range(1, len(c_time)):\n",
    "    average_diff += c_time[i] - c_time[i-1]\n",
    "average_diff/(len(c_time)-1)"
   ]
  },
  {
   "cell_type": "code",
   "execution_count": 4,
   "id": "fc424717",
   "metadata": {},
   "outputs": [
    {
     "data": {
      "text/plain": [
       "[<matplotlib.lines.Line2D at 0x7f80b77305b0>]"
      ]
     },
     "execution_count": 4,
     "metadata": {},
     "output_type": "execute_result"
    },
    {
     "data": {
      "image/png": "[encoded data removed]",
      "text/plain": [
       "<Figure size 640x480 with 1 Axes>"
      ]
     },
     "metadata": {},
     "output_type": "display_data"
    }
   ],
   "source": [
    "import matplotlib.pyplot as plt\n",
    "\n",
    "fig, ax = plt.subplots()\n",
    "\n",
    "\n",
    "ax.plot(df[\"creation_time\"], df[\"gpu_milli\"])"
   ]
  },
  {
   "cell_type": "code",
   "execution_count": 5,
   "id": "bb8911ad",
   "metadata": {},
   "outputs": [],
   "source": [
    "import torch.nn as nn\n",
    "\n",
    "\n",
    "class PredictTime(nn.Module):\n",
    "    def __init__(self):\n",
    "        super().__init__()\n",
    "        \n",
    "        self.hidden_size = 100\n",
    "        self.hidden_layers = 10\n",
    "        self.lstm = nn.LSTM(input_size=2, hidden_size=self.hidden_size, num_layers=self.hidden_layers).double()\n",
    "        self.linear = nn.Linear(self.hidden_size,1).double()\n",
    "        self.h_0 = torch.zeros(self.hidden_layers,self.hidden_size).double()\n",
    "        self.c_0 = torch.zeros(self.hidden_layers,self.hidden_size).double()\n",
    "        self.hidden = (self.h_0, self.c_0)\n",
    "        self.sig = nn.Sigmoid()\n",
    "        \n",
    "    def forward(self, x):\n",
    "        x, self.hidden = self.lstm(x,self.hidden)\n",
    "        x = self.linear(x)\n",
    "        return self.sig(x)\n",
    "    \n",
    "    def init_state(self):\n",
    "        self.h_0 = self.hidden[0].detach()\n",
    "        self.c_0 = self.hidden[1].detach()\n",
    "        self.hidden = (self.h_0, self.c_0)\n",
    "    \n",
    "    def clean_state(self):\n",
    "        self.h_0 = torch.zeros(self.hidden_layers,self.hidden_size).double()\n",
    "        self.c_0 = torch.zeros(self.hidden_layers,self.hidden_size).double()\n",
    "        self.hidden = (self.h_0, self.c_0)\n",
    "       "
   ]
  },
  {
   "cell_type": "code",
   "execution_count": 6,
   "id": "5d863ee8",
   "metadata": {
    "tags": []
   },
   "outputs": [
    {
     "name": "stdout",
     "output_type": "stream",
     "text": [
      "Max value:  1000\n"
     ]
    },
    {
     "data": {
      "text/plain": [
       "(tensor([[-1.0000e-03,  7.7509e-08],\n",
       "         [ 1.0000e+00,  1.5502e-07],\n",
       "         [ 4.6000e-01,  2.3253e-07],\n",
       "         ...,\n",
       "         [ 1.0000e+00,  6.3170e-04],\n",
       "         [ 4.6000e-01,  6.3177e-04],\n",
       "         [ 5.9000e-01,  6.3185e-04]], dtype=torch.float64),\n",
       " tensor([[1.0000],\n",
       "         [0.4600],\n",
       "         [1.0000],\n",
       "         ...,\n",
       "         [0.4600],\n",
       "         [0.5900],\n",
       "         [0.5900]], dtype=torch.float64))"
      ]
     },
     "execution_count": 6,
     "metadata": {},
     "output_type": "execute_result"
    }
   ],
   "source": [
    "import torch\n",
    "\n",
    "def make_data(df):\n",
    "    \n",
    "    x_train, y_train = [], []\n",
    "    prev = -1\n",
    "    count = 1\n",
    "    m = df.max()[0]\n",
    "    maxtime = df.max()[1]\n",
    "    print(\"Max value: \", m)\n",
    "    \n",
    "    for row in df.values:\n",
    "        x_train.append([prev/m, count/maxtime])\n",
    "        y_train.append([row[0]/m])\n",
    "        prev = row[0]\n",
    "        count += 1\n",
    "    return torch.tensor(x_train, dtype=torch.double),torch.tensor(y_train, dtype=torch.double)\n",
    "\n",
    "make_data(df)\n",
    "        "
   ]
  },
  {
   "cell_type": "code",
   "execution_count": null,
   "id": "bdd48894-aa13-4daf-bf7c-586c178ab8bc",
   "metadata": {},
   "outputs": [],
   "source": [
    "\n"
   ]
  },
  {
   "cell_type": "code",
   "execution_count": null,
   "id": "3738579e",
   "metadata": {},
   "outputs": [
    {
     "name": "stdout",
     "output_type": "stream",
     "text": [
      "Max value:  1000\n",
      "Epoch 0 Loss 60.0826\n"
     ]
    }
   ],
   "source": [
    "import warnings\n",
    "warnings.filterwarnings('error')\n",
    "\n",
    "\n",
    "\n",
    "import numpy as np\n",
    "import torch.optim as optim\n",
    "import torch.utils.data as data\n",
    "from IPython.display import clear_output\n",
    "\n",
    "model = Generator()\n",
    "optimizer = optim.Adam(model.parameters())\n",
    "loss = nn.MSELoss()\n",
    "batch_size = 50\n",
    "x_d, y_d = make_data(get_data())\n",
    "loader = data.DataLoader(data.TensorDataset(x_d,y_d), batch_size=batch_size)\n",
    "epochs = 1000\n",
    "for e in range(epochs):\n",
    "    model.train()\n",
    "    #print(next(iter(loader)))\n",
    "    model.lstm_zero()\n",
    "    for x, y in loader:\n",
    "\n",
    "        #print(\"XXXX\", x, \"YYYY\", y)\n",
    "       \n",
    "        model.init_state()\n",
    "        pred_total = []\n",
    "        y_pred = model(x)\n",
    "        \n",
    "        l = loss(y_pred, y)\n",
    "        optimizer.zero_grad()\n",
    "        l.backward()\n",
    "        optimizer.step()\n",
    "        \n",
    "    if e % 10 != 0:\n",
    "        continue\n",
    "    #clear_output(wait=True)\n",
    "    sum_loss = 0\n",
    "\n",
    "    for x, y in loader:\n",
    "        model.eval()\n",
    "        with torch.no_grad():\n",
    "            y_pred = model(x)\n",
    "            sum_loss += np.sqrt(loss(y_pred, y))\n",
    "    \n",
    "    print(\"Epoch %d Loss %.4f\" % (e, sum_loss))\n",
    "    \n",
    "    \n",
    "#for d in df.values:\n"
   ]
  },
  {
   "cell_type": "code",
   "execution_count": null,
   "id": "48166a27-c174-43e6-b789-99f3de644b82",
   "metadata": {
    "tags": []
   },
   "outputs": [],
   "source": [
    "import matplotlib.pyplot as plt\n",
    "\n",
    "def eval_model(x,y,m):\n",
    "    df = get_data() \n",
    "    maxtime = df.max()[1]\n",
    "\n",
    "    res = []\n",
    "    m.eval()\n",
    "    m.clean_state()\n",
    "    count  = 1\n",
    "    val = x[0][0]\n",
    "    for _ in x:\n",
    "        t = torch.tensor([[val, count/maxtime]])\n",
    "        val = m(t)\n",
    "        count += 1\n",
    "        res.append(val.detach().numpy()[0])\n",
    "    \n",
    "    fig, ax = plt.subplots()\n",
    "    \n",
    "    ax.plot(res[900:999])\n",
    "    ax.plot(y[900:999])\n",
    "\n",
    "amount = 1000\n",
    "eval_model(x_d[:amount],y_d[:amount],model)\n"
   ]
  },
  {
   "cell_type": "code",
   "execution_count": null,
   "id": "364609a9-819a-4ed6-99fd-441d8e2ea621",
   "metadata": {},
   "outputs": [],
   "source": [
    "import matplotlib.pyplot as plt\n",
    "\n",
    "def eval_model(x,y,m):\n",
    "    df = get_data() \n",
    "    maxtime = df.max()[1]\n",
    "\n",
    "    res = []\n",
    "    m.eval()\n",
    "    m.clean_state()\n",
    "    count  = 1\n",
    "    val = x[0][0]\n",
    "    for _ in x:\n",
    "        t = torch.tensor([[val, count/maxtime]])\n",
    "        val = m(t)\n",
    "        count += 1\n",
    "        res.append(val.detach().numpy()[0])\n",
    "    \n",
    "    loss = nn.MSELoss()\n",
    "    print(np.sqrt(loss(torch.tensor(res),y)))\n",
    "    \n",
    "    fig, ax = plt.subplots()\n",
    "    \n",
    "    ax.plot(res[-50:])\n",
    "    ax.plot(y[-50:])\n",
    "\n",
    "amount = 1000\n",
    "eval_model(x_d,y_d,model)\n"
   ]
  },
  {
   "cell_type": "code",
   "execution_count": null,
   "id": "9da874eb-3462-4664-9bf0-77186df62906",
   "metadata": {},
   "outputs": [],
   "source": []
  }
 ],
 "metadata": {
  "kernelspec": {
   "display_name": "Python 3 (ipykernel)",
   "language": "python",
   "name": "python3"
  },
  "language_info": {
   "codemirror_mode": {
    "name": "ipython",
    "version": 3
   },
   "file_extension": ".py",
   "mimetype": "text/x-python",
   "name": "python",
   "nbconvert_exporter": "python",
   "pygments_lexer": "ipython3",
   "version": "3.10.10"
  }
 },
 "nbformat": 4,
 "nbformat_minor": 5
}
