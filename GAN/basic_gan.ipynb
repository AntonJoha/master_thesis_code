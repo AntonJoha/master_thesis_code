{
 "cells": [
  {
   "cell_type": "code",
   "execution_count": 1,
   "id": "5c3998e7-48dc-4b6a-8bed-0b0baf17485c",
   "metadata": {},
   "outputs": [
    {
     "name": "stdout",
     "output_type": "stream",
     "text": [
      "Max value:  1000\n"
     ]
    },
    {
     "name": "stderr",
     "output_type": "stream",
     "text": [
      "/tmp/ipykernel_58662/182989242.py:13: FutureWarning: Series.__getitem__ treating keys as positions is deprecated. In a future version, integer keys will always be treated as labels (consistent with DataFrame behavior). To access a value by position, use `ser.iloc[pos]`\n",
      "  m = df.max()[0]\n",
      "/tmp/ipykernel_58662/182989242.py:14: FutureWarning: Series.__getitem__ treating keys as positions is deprecated. In a future version, integer keys will always be treated as labels (consistent with DataFrame behavior). To access a value by position, use `ser.iloc[pos]`\n",
      "  maxtime = df.max()[1]\n"
     ]
    },
    {
     "data": {
      "text/plain": [
       "(tensor([[-1.0000e-03,  7.7509e-08],\n",
       "         [ 1.0000e+00,  1.5502e-07],\n",
       "         [ 4.6000e-01,  2.3253e-07],\n",
       "         ...,\n",
       "         [ 1.0000e+00,  6.3170e-04],\n",
       "         [ 4.6000e-01,  6.3177e-04],\n",
       "         [ 5.9000e-01,  6.3185e-04]], dtype=torch.float64),\n",
       " tensor([[1.0000],\n",
       "         [0.4600],\n",
       "         [1.0000],\n",
       "         ...,\n",
       "         [0.4600],\n",
       "         [0.5900],\n",
       "         [0.5900]], dtype=torch.float64))"
      ]
     },
     "execution_count": 1,
     "metadata": {},
     "output_type": "execute_result"
    }
   ],
   "source": [
    "from parse_data import get_data\n",
    "from generator import Generator\n",
    "from discriminator import Discriminator\n",
    "import torch\n",
    "\n",
    "df = get_data()\n",
    "\n",
    "def make_data(df):\n",
    "    \n",
    "    x_train, y_train = [], []\n",
    "    prev = -1\n",
    "    count = 1\n",
    "    m = df.max()[0]\n",
    "    maxtime = df.max()[1]\n",
    "    print(\"Max value: \", m)\n",
    "    \n",
    "    for row in df.values:\n",
    "        x_train.append([prev/m, count/maxtime])\n",
    "        y_train.append([row[0]/m])\n",
    "        prev = row[0]\n",
    "        count += 1\n",
    "    return torch.tensor(x_train, dtype=torch.double),torch.tensor(y_train, dtype=torch.double)\n",
    "\n",
    "make_data(df)"
   ]
  },
  {
   "cell_type": "markdown",
   "id": "3edd3d53-7282-4b28-98a7-98aa075014f9",
   "metadata": {},
   "source": [
    "### *Make this cell \"code\" to enable warnings*\n",
    "### *Only used for debugging*\n",
    "import warnings\n",
    "warnings.filterwarnings('error')"
   ]
  },
  {
   "cell_type": "code",
   "execution_count": null,
   "id": "865f400d-5926-4f37-bb74-afd732f9ef93",
   "metadata": {},
   "outputs": [
    {
     "name": "stdout",
     "output_type": "stream",
     "text": [
      "Generator loss:  41.32178910252702\n",
      "Generator loss:  41.14333931086184\n",
      "Generator loss:  41.00515172547595\n"
     ]
    }
   ],
   "source": [
    "import numpy as np\n",
    "import torch.optim as optim\n",
    "import torch.utils.data as data\n",
    "from IPython.display import clear_output\n",
    "import torch.nn as nn\n",
    "\n",
    "\n",
    "generator = Generator()\n",
    "discriminator = Discriminator()\n",
    "\n",
    "optimizer_g = optim.Adam(generator.parameters(), lr=0.01)\n",
    "optimizer_d = optim.Adam(discriminator.parameters(), lr=0.01)\n",
    "\n",
    "loss = nn.MSELoss()\n",
    "\n",
    "batch_size = 50\n",
    "x_d, y_d = make_data(get_data())\n",
    "loader = data.DataLoader(data.TensorDataset(x_d,y_d), batch_size=batch_size)\n",
    "epochs = 1000\n",
    "\n",
    "\n",
    "true = torch.tensor([1.0]*batch_size).unsqueeze(1).double()\n",
    "false = torch.tensor([0.0]*batch_size).unsqueeze(1).double()\n",
    "for e in range(epochs):\n",
    "\n",
    "    #clear_output()\n",
    "    # train generator\n",
    "    clear_output()\n",
    "\n",
    "    for _ in range(5):\n",
    "\n",
    "        generator.lstm_zero()\n",
    "        \n",
    "        res = []\n",
    "        for x, _ in loader:\n",
    "            if x.size()[0] < batch_size:\n",
    "                continue\n",
    "            generator.init_state()\n",
    "            discriminator.random_state()\n",
    "            y_pred = generator(x)\n",
    "            d = discriminator(y_pred)\n",
    "            res.append(loss(d, true))\n",
    "\n",
    "        l = res[0]\n",
    "        for i in res[1:]:\n",
    "            l += i\n",
    "        print(\"Generator loss: \", l.item())\n",
    "        optimizer_g.zero_grad()\n",
    "        l.backward()\n",
    "        optimizer_g.step()\n",
    "\n",
    "\n",
    "    # Train discriminator\n",
    "    for _ in range(5):\n",
    "    \n",
    "        optimizer_d.zero_grad()\n",
    "        generator.lstm_zero()\n",
    "        res = []\n",
    "\n",
    "        for x, y in loader:\n",
    "            if x.size()[0] < batch_size:\n",
    "                continue\n",
    "            generator.init_state()\n",
    "            discriminator.random_state()\n",
    "            y_pred = generator(x).detach()\n",
    "            res.append(loss(discriminator(y_pred), false))\n",
    "            discriminator.random_state()\n",
    "            res.append(loss(discriminator(y), true))\n",
    "\n",
    "        l = res[0]\n",
    "        for i in res[1:]:\n",
    "            l += i\n",
    "        print(\"Discriminator loss: \", l.item())\n",
    "        optimizer_d.zero_grad()\n",
    "        l.backward()\n",
    "        optimizer_d.step()\n",
    "    \n",
    "    \n",
    "        \n"
   ]
  },
  {
   "cell_type": "code",
   "execution_count": null,
   "id": "66fba04c-82f3-47e4-a028-bb5cbe6fcdda",
   "metadata": {},
   "outputs": [],
   "source": []
  }
 ],
 "metadata": {
  "kernelspec": {
   "display_name": "Python 3 (ipykernel)",
   "language": "python",
   "name": "python3"
  },
  "language_info": {
   "codemirror_mode": {
    "name": "ipython",
    "version": 3
   },
   "file_extension": ".py",
   "mimetype": "text/x-python",
   "name": "python",
   "nbconvert_exporter": "python",
   "pygments_lexer": "ipython3",
   "version": "3.11.7"
  }
 },
 "nbformat": 4,
 "nbformat_minor": 5
}
